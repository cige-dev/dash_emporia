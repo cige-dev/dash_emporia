{
 "cells": [
  {
   "cell_type": "code",
   "execution_count": 4,
   "metadata": {},
   "outputs": [],
   "source": [
    "pip install pandas sqlalchemy"
   ]
  },
  {
   "cell_type": "code",
   "execution_count": 1,
   "metadata": {},
   "outputs": [],
   "source": [
    "import src.partner_api2_pb2_grpc as api\n",
    "from src.partner_api2_pb2 import *\n",
    "import pandas as pd\n",
    "import numpy as np\n",
    "import grpc\n",
    "from datetime import datetime\n",
    "import time, glob"
   ]
  },
  {
   "cell_type": "code",
   "execution_count": 2,
   "metadata": {},
   "outputs": [],
   "source": [
    "    start_date = datetime.fromtimestamp(time.time()).timestamp()"
   ]
  },
  {
   "cell_type": "code",
   "execution_count": 3,
   "metadata": {},
   "outputs": [],
   "source": [
    "    partnerApiEndpoint = 'partner.emporiaenergy.com:50052'\n",
    "    creds = grpc.ssl_channel_credentials()\n",
    "    channel = grpc.secure_channel(partnerApiEndpoint, creds)\n",
    "    stub = api.PartnerApiStub(channel)\n",
    "    request = AuthenticationRequest()\n",
    "    request.partner_email = 'hsoto@cigepty.com'\n",
    "    request.password = 'hsm280466'\n",
    "    auth_response = stub.Authenticate(request=request)\n",
    "    auth_token = auth_response.auth_token\n",
    "    inventoryRequest = DeviceInventoryRequest()\n",
    "    inventoryRequest.auth_token = auth_token\n",
    "    inventoryResponse = stub.GetDevices(inventoryRequest)\n",
    "    deviceUsageRequest = DeviceUsageRequest()\n",
    "    deviceUsageRequest.auth_token = auth_token\n",
    "    deviceUsageRequest.start_epoch_seconds = int(start_date)\n",
    "    deviceUsageRequest.end_epoch_seconds = int(start_date)\n",
    "    deviceUsageRequest.scale = DataResolution.Days\n",
    "    deviceUsageRequest.channels = DeviceUsageRequest.UsageChannel.ALL\n",
    "    usageResponse = stub.GetUsageData(deviceUsageRequest)"
   ]
  },
  {
   "cell_type": "code",
   "execution_count": 4,
   "metadata": {},
   "outputs": [
    {
     "name": "stdout",
     "output_type": "stream",
     "text": [
      "LifeBridge created\n",
      "Familia Attar created\n",
      " created\n",
      " created\n",
      "Casa created\n",
      "Family Issa created\n",
      "Maritima created\n",
      "FSM created\n",
      "PH Millenium created\n",
      "LV GYM created\n",
      "LV 650 created\n",
      "Yafar Family created\n",
      "VWork created\n",
      "Familia Landero created\n",
      "Vita Arcade created\n",
      " created\n",
      "Casa Flia Barahona created\n",
      "Vita Azotea created\n",
      "Velure AS created\n",
      "Casa created\n",
      " created\n",
      " created\n",
      " created\n",
      " created\n",
      " created\n",
      " created\n",
      " created\n",
      " created\n",
      " created\n",
      " created\n",
      "Arrocera created\n"
     ]
    }
   ],
   "source": [
    "from src.db_verify import checking_data\n",
    "\n",
    "for device in inventoryResponse.devices: \n",
    "    device_name, data = checking_data(device.device_name.lower())\n",
    "    print(f'{device_name} created')"
   ]
  }
 ],
 "metadata": {
  "kernelspec": {
   "display_name": "Python 3",
   "language": "python",
   "name": "python3"
  },
  "language_info": {
   "codemirror_mode": {
    "name": "ipython",
    "version": 3
   },
   "file_extension": ".py",
   "mimetype": "text/x-python",
   "name": "python",
   "nbconvert_exporter": "python",
   "pygments_lexer": "ipython3",
   "version": "3.11.7"
  }
 },
 "nbformat": 4,
 "nbformat_minor": 2
}
