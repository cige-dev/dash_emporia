{
 "cells": [
  {
   "cell_type": "code",
   "execution_count": 1,
   "metadata": {},
   "outputs": [],
   "source": [
    "import grpc\n",
    "import src.partner_api2_pb2_grpc as api\n",
    "from src.partner_api2_pb2 import *\n",
    "from src.emporia_conection import data_extract\n",
    "from src.db_verify import checking_data\n",
    "from src.transforming import transforming\n",
    "from dateutil.relativedelta import relativedelta \n",
    "from datetime import datetime  \n",
    "import pandas as pd\n",
    "import time, glob"
   ]
  }
 ],
 "metadata": {
  "kernelspec": {
   "display_name": "Python 3",
   "language": "python",
   "name": "python3"
  },
  "language_info": {
   "codemirror_mode": {
    "name": "ipython",
    "version": 3
   },
   "file_extension": ".py",
   "mimetype": "text/x-python",
   "name": "python",
   "nbconvert_exporter": "python",
   "pygments_lexer": "ipython3",
   "version": "3.11.7"
  }
 },
 "nbformat": 4,
 "nbformat_minor": 2
}
